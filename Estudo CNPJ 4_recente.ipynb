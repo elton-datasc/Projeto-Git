{
 "cells": [
  {
   "cell_type": "markdown",
   "metadata": {},
   "source": [
    "# Consumo de dados de API da RFB\n",
    "\n",
    "Coletando dados de CNPJS da base pública da RFB\n",
    "\n",
    "Documentação da API - https://receitaws.com.br/api\n",
    "\n",
    "limite de 3 CNPJS por minuto - https://receitaws.com.br/pricing"
   ]
  },
  {
   "cell_type": "code",
   "execution_count": 45,
   "metadata": {},
   "outputs": [],
   "source": [
    "#importando as bibliotecas\n",
    "import requests"
   ]
  },
  {
   "cell_type": "code",
   "execution_count": 46,
   "metadata": {},
   "outputs": [],
   "source": [
    "dados=[]"
   ]
  },
  {
   "cell_type": "code",
   "execution_count": 47,
   "metadata": {},
   "outputs": [
    {
     "name": "stdout",
     "output_type": "stream",
     "text": [
      "digite o CNPJ27865757000102\n",
      "digite o CNPJ27865757000102\n",
      "digite o CNPJ34028316002742\n",
      "digite o CNPJ33000167066129\n",
      "digite o CNPJfim\n"
     ]
    }
   ],
   "source": [
    "\n",
    "#34028316002742 EMPRESA BRASILEIRA DE CORREIOS E TELEGRAFOS\n",
    "#33000167066129\n",
    "#00360305000104 CAIXA ECONOMICA FEDERAL\n",
    "#27865757000102 GLOBO COMUNICACAO E PARTICIPACOES S/A\n",
    "#01468760000190 Ministério Público de São Paulo\n",
    "#51174001000193 Tribunal de Justiça de São Paulo\n",
    "#00000000000191 BANCO DO BRASIL SA\n",
    "cnpj = input('digite o CNPJ')\n",
    "while (cnpj !='fim'):\n",
    "    cnpj = input('digite o CNPJ')\n",
    "    dados.append(cnpj)"
   ]
  },
  {
   "cell_type": "code",
   "execution_count": 48,
   "metadata": {},
   "outputs": [],
   "source": [
    "#remove apenas o primeiro registro do item,não todos\n",
    "dados.remove('fim')"
   ]
  },
  {
   "cell_type": "code",
   "execution_count": 49,
   "metadata": {},
   "outputs": [
    {
     "name": "stdout",
     "output_type": "stream",
     "text": [
      "['27865757000102', '34028316002742', '33000167066129']\n"
     ]
    }
   ],
   "source": [
    "print(dados)"
   ]
  },
  {
   "cell_type": "code",
   "execution_count": 50,
   "metadata": {},
   "outputs": [],
   "source": [
    "cnpj=dados"
   ]
  },
  {
   "cell_type": "code",
   "execution_count": 51,
   "metadata": {},
   "outputs": [
    {
     "name": "stdout",
     "output_type": "stream",
     "text": [
      "['27865757000102', '34028316002742', '33000167066129']\n"
     ]
    }
   ],
   "source": [
    "print(cnpj)"
   ]
  },
  {
   "cell_type": "code",
   "execution_count": 52,
   "metadata": {},
   "outputs": [
    {
     "name": "stdout",
     "output_type": "stream",
     "text": [
      "<Response [200]>\n",
      "<Response [200]>\n",
      "<Response [200]>\n"
     ]
    }
   ],
   "source": [
    "#verificando o status da requisição - o padrão normal é 200,conforme documentação.\n",
    "for c in cnpj:\n",
    "    d = requests.get(f'http://receitaws.com.br/v1/cnpj/{c}')\n",
    "    print(d)"
   ]
  },
  {
   "cell_type": "code",
   "execution_count": 66,
   "metadata": {},
   "outputs": [],
   "source": [
    "#Coletando os dados conforme link da API,convertendo em .json e organizando em um dict\n",
    "#a base da dados da API já está em .json - o comando dados=d.json() é opcional\n",
    "cnpj_dict = {}\n",
    "for c in cnpj:\n",
    "    d = requests.get(f'http://receitaws.com.br/v1/cnpj/{c}')\n",
    "    dados = d.json()\n",
    "    cnpj_dict[c] = {'atividade_principal':dados['atividade_principal'][0]['text'],\n",
    "                    'cnpj': dados['cnpj'], 'nome': dados['nome'],'cnae':dados['atividade_principal'][0]['code'],\n",
    "                    'nome':dados['nome'],'uf':dados['uf'],'situacao':dados['situacao'],'cidade':dados['municipio'],\n",
    "                   'porte':dados['porte'],'nat_juridica':dados['natureza_juridica'],'status':dados['status']}"
   ]
  },
  {
   "cell_type": "code",
   "execution_count": 67,
   "metadata": {},
   "outputs": [
    {
     "name": "stdout",
     "output_type": "stream",
     "text": [
      "{'atividade_principal': [{'text': 'Comércio atacadista de álcool carburante, biodiesel, gasolina e demais derivados de petróleo, exceto lubrificantes, não realizado por transportador retalhista (T.R.R.)', 'code': '46.81-8-01'}], 'data_situacao': '03/11/2005', 'tipo': 'FILIAL', 'nome': 'PETROLEO BRASILEIRO S A PETROBRAS', 'efr': 'UNIÃO', 'uf': 'SP', 'telefone': '(21) 3224-3025/ (21) 3224-3022', 'email': 'atendimentofiscossco@petrobras.com.br', 'situacao': 'ATIVA', 'logradouro': 'AV GUARDA MOR LOBO VIANA', 'numero': '1111', 'cep': '11.600-200', 'municipio': 'SAO SEBASTIAO', 'porte': 'DEMAIS', 'abertura': '21/10/1969', 'natureza_juridica': '203-8 - Sociedade de Economia Mista', 'fantasia': 'PETROBRAS', 'cnpj': '33.000.167/0661-29', 'ultima_atualizacao': '2021-09-11T10:13:28.977Z', 'status': 'OK', 'complemento': '', 'bairro': '', 'motivo_situacao': '', 'situacao_especial': '', 'data_situacao_especial': '', 'atividades_secundarias': [{'code': '00.00-0-00', 'text': 'Não informada'}], 'capital_social': '0.00', 'qsa': [], 'extra': {}, 'billing': {'free': True, 'database': True}}\n"
     ]
    }
   ],
   "source": [
    "print(dados)"
   ]
  },
  {
   "cell_type": "code",
   "execution_count": 68,
   "metadata": {},
   "outputs": [
    {
     "data": {
      "text/plain": [
       "{'27865757000102': {'atividade_principal': 'Atividades de televisão aberta',\n",
       "  'cnpj': '27.865.757/0001-02',\n",
       "  'nome': 'GLOBO COMUNICACAO E PARTICIPACOES S/A',\n",
       "  'cnae': '60.21-7-00',\n",
       "  'uf': 'RJ',\n",
       "  'situacao': 'ATIVA',\n",
       "  'cidade': 'RIO DE JANEIRO',\n",
       "  'porte': 'DEMAIS',\n",
       "  'nat_juridica': '205-4 - Sociedade Anônima Fechada',\n",
       "  'status': 'OK'},\n",
       " '34028316002742': {'atividade_principal': 'Atividades do Correio Nacional',\n",
       "  'cnpj': '34.028.316/0027-42',\n",
       "  'nome': 'EMPRESA BRASILEIRA DE CORREIOS E TELEGRAFOS',\n",
       "  'cnae': '53.10-5-01',\n",
       "  'uf': 'RO',\n",
       "  'situacao': 'ATIVA',\n",
       "  'cidade': 'PORTO VELHO',\n",
       "  'porte': 'DEMAIS',\n",
       "  'nat_juridica': '201-1 - Empresa Pública',\n",
       "  'status': 'OK'},\n",
       " '33000167066129': {'atividade_principal': 'Comércio atacadista de álcool carburante, biodiesel, gasolina e demais derivados de petróleo, exceto lubrificantes, não realizado por transportador retalhista (T.R.R.)',\n",
       "  'cnpj': '33.000.167/0661-29',\n",
       "  'nome': 'PETROLEO BRASILEIRO S A PETROBRAS',\n",
       "  'cnae': '46.81-8-01',\n",
       "  'uf': 'SP',\n",
       "  'situacao': 'ATIVA',\n",
       "  'cidade': 'SAO SEBASTIAO',\n",
       "  'porte': 'DEMAIS',\n",
       "  'nat_juridica': '203-8 - Sociedade de Economia Mista',\n",
       "  'status': 'OK'}}"
      ]
     },
     "execution_count": 68,
     "metadata": {},
     "output_type": "execute_result"
    }
   ],
   "source": [
    "cnpj_dict"
   ]
  },
  {
   "cell_type": "code",
   "execution_count": 69,
   "metadata": {},
   "outputs": [
    {
     "name": "stdout",
     "output_type": "stream",
     "text": [
      "CNPJ: 27.865.757/0001-02 \n",
      " NOME: GLOBO COMUNICACAO E PARTICIPACOES S/A \n",
      " CNAE: 60.21-7-00 \n",
      " Atividade: Atividades de televisão aberta \n",
      " Porte: DEMAIS \n",
      " Nat_Juridica: 205-4 - Sociedade Anônima Fechada \n",
      " Situacao: ATIVA \n",
      " Status: OK \n",
      " UF: RJ \n",
      " Cidade: RIO DE JANEIRO \n",
      "\n",
      "CNPJ: 34.028.316/0027-42 \n",
      " NOME: EMPRESA BRASILEIRA DE CORREIOS E TELEGRAFOS \n",
      " CNAE: 53.10-5-01 \n",
      " Atividade: Atividades do Correio Nacional \n",
      " Porte: DEMAIS \n",
      " Nat_Juridica: 201-1 - Empresa Pública \n",
      " Situacao: ATIVA \n",
      " Status: OK \n",
      " UF: RO \n",
      " Cidade: PORTO VELHO \n",
      "\n",
      "CNPJ: 33.000.167/0661-29 \n",
      " NOME: PETROLEO BRASILEIRO S A PETROBRAS \n",
      " CNAE: 46.81-8-01 \n",
      " Atividade: Comércio atacadista de álcool carburante, biodiesel, gasolina e demais derivados de petróleo, exceto lubrificantes, não realizado por transportador retalhista (T.R.R.) \n",
      " Porte: DEMAIS \n",
      " Nat_Juridica: 203-8 - Sociedade de Economia Mista \n",
      " Situacao: ATIVA \n",
      " Status: OK \n",
      " UF: SP \n",
      " Cidade: SAO SEBASTIAO \n",
      "\n"
     ]
    }
   ],
   "source": [
    "#for cnpj in cnpj_dict:\n",
    "#Organizando os dados:\n",
    "for c in cnpj_dict:\n",
    "    print('CNPJ:'+' ' + cnpj_dict[c]['cnpj'],'\\n',\n",
    "          'NOME:'+' '+ cnpj_dict[c]['nome'],'\\n',\n",
    "          'CNAE:'+' '+cnpj_dict[c]['cnae'],'\\n',\n",
    "          'Atividade:'+ ' ' +cnpj_dict[f'{c}']['atividade_principal'],'\\n',\n",
    "          'Porte:'+' '+cnpj_dict[c]['porte'],'\\n',\n",
    "          'Nat_Juridica:'+' '+cnpj_dict[c]['nat_juridica'],'\\n',\n",
    "          'Situacao:'+' '+cnpj_dict[c]['situacao'],'\\n',\n",
    "          'Status:'+' '+cnpj_dict[c]['status'],'\\n',\n",
    "          'UF:'+' '+cnpj_dict[c]['uf'],'\\n',\n",
    "          'Cidade:'+' '+cnpj_dict[c]['cidade'],'\\n',\n",
    "          )"
   ]
  }
 ],
 "metadata": {
  "kernelspec": {
   "display_name": "Python 3",
   "language": "python",
   "name": "python3"
  },
  "language_info": {
   "codemirror_mode": {
    "name": "ipython",
    "version": 3
   },
   "file_extension": ".py",
   "mimetype": "text/x-python",
   "name": "python",
   "nbconvert_exporter": "python",
   "pygments_lexer": "ipython3",
   "version": "3.8.3"
  }
 },
 "nbformat": 4,
 "nbformat_minor": 4
}
